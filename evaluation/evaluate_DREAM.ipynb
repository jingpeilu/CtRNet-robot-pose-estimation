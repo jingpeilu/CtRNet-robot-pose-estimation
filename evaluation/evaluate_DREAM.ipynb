{
 "cells": [
  {
   "cell_type": "code",
   "execution_count": 1,
   "metadata": {},
   "outputs": [],
   "source": [
    "import sys\n",
    "import os\n",
    "base_dir = \"/home/jingpei/Desktop/CtRNet-robot-pose-estimation\"\n",
    "sys.path.append(base_dir)\n",
    "\n",
    "import torch\n",
    "from torch.utils.data import Dataset, DataLoader\n",
    "import torchvision.transforms as transforms\n",
    "import numpy as np\n",
    "import matplotlib.pyplot as plt\n",
    "\n",
    "from utils import *\n",
    "from models.CtRNet import CtRNet\n",
    "from models.BPnP import batch_transform_3d\n",
    "from evaluate import evaluate_ADD\n"
   ]
  },
  {
   "cell_type": "code",
   "execution_count": 2,
   "metadata": {},
   "outputs": [],
   "source": [
    "import argparse\n",
    "from imageloaders.DREAM import ImageDataLoaderReal, load_camera_parameters\n",
    "parser = argparse.ArgumentParser()\n",
    "\n",
    "args = parser.parse_args(\"\")\n",
    "\n",
    "args.data_folder = \"/media/jingpei/DATA/DREAM/data/real/panda-3cam_realsense\"\n",
    "args.base_dir = \"/home/jingpei/Desktop/CtRNet-robot-pose-estimation\"\n",
    "args.use_gpu = True\n",
    "args.trained_on_multi_gpus = True\n",
    "args.keypoint_seg_model_path = os.path.join(args.base_dir,\"outputs/pretrain/net_epoch_3.pth\")\n",
    "args.urdf_file = os.path.join(args.base_dir,\"urdfs/Panda/panda.urdf\")\n",
    "\n",
    "args.robot_name = 'Panda' # \"Panda\" or \"Baxter_left_arm\"\n",
    "args.n_kp = 12\n",
    "args.scale = 0.5\n",
    "args.height = 480\n",
    "args.width = 640\n",
    "args.fx, args.fy, args.px, args.py = load_camera_parameters(args.data_folder)\n",
    "\n",
    "# scale the camera parameters\n",
    "args.width = int(args.width * args.scale)\n",
    "args.height = int(args.height * args.scale)\n",
    "args.fx = args.fx * args.scale\n",
    "args.fy = args.fy * args.scale\n",
    "args.px = args.px * args.scale\n",
    "args.py = args.py * args.scale"
   ]
  },
  {
   "cell_type": "code",
   "execution_count": 3,
   "metadata": {},
   "outputs": [
    {
     "name": "stdout",
     "output_type": "stream",
     "text": [
      "Loading keypoint segmentation model from /home/jingpei/Desktop/CtRNet-robot-pose-estimation/outputs/pretrain/net_epoch_3.pth\n",
      "Camera intrinsics: [[307.76196289   0.         164.13032532]\n",
      " [  0.         307.60958862 125.89585114]\n",
      " [  0.           0.           1.        ]]\n",
      "Robot model: Panda\n"
     ]
    }
   ],
   "source": [
    "CtRNet = CtRNet(args)"
   ]
  },
  {
   "cell_type": "code",
   "execution_count": 4,
   "metadata": {},
   "outputs": [],
   "source": [
    "trans_to_tensor = transforms.Compose([\n",
    "    transforms.ToTensor(),\n",
    "    transforms.Normalize(mean=[0.485, 0.456, 0.406], std=[0.229, 0.224, 0.225]),\n",
    "])\n",
    "\n",
    "dataset = ImageDataLoaderReal(data_folder = args.data_folder, scale = args.scale, trans_to_tensor = trans_to_tensor)"
   ]
  },
  {
   "cell_type": "code",
   "execution_count": 5,
   "metadata": {},
   "outputs": [
    {
     "data": {
      "application/vnd.jupyter.widget-view+json": {
       "model_id": "d02309bc55e542619d14b5f05c68dffd",
       "version_major": 2,
       "version_minor": 0
      },
      "text/plain": [
       "  0%|          | 0/5944 [00:00<?, ?it/s]"
      ]
     },
     "metadata": {},
     "output_type": "display_data"
    }
   ],
   "source": [
    "AUC, mean_error = evaluate_ADD(CtRNet, dataset)"
   ]
  },
  {
   "cell_type": "code",
   "execution_count": 7,
   "metadata": {},
   "outputs": [
    {
     "name": "stdout",
     "output_type": "stream",
     "text": [
      "AUC:  0.7832614401076716\n",
      "Mean error:  0.022072875540795213\n"
     ]
    }
   ],
   "source": [
    "print(\"AUC: \", AUC)\n",
    "print(\"Mean error: \", mean_error)"
   ]
  },
  {
   "cell_type": "code",
   "execution_count": null,
   "metadata": {},
   "outputs": [],
   "source": []
  }
 ],
 "metadata": {
  "kernelspec": {
   "display_name": "pytorch_ros",
   "language": "python",
   "name": "python3"
  },
  "language_info": {
   "codemirror_mode": {
    "name": "ipython",
    "version": 3
   },
   "file_extension": ".py",
   "mimetype": "text/x-python",
   "name": "python",
   "nbconvert_exporter": "python",
   "pygments_lexer": "ipython3",
   "version": "3.8.12"
  },
  "orig_nbformat": 4
 },
 "nbformat": 4,
 "nbformat_minor": 2
}
