{
 "cells": [
  {
   "cell_type": "code",
   "execution_count": 2,
   "metadata": {},
   "outputs": [],
   "source": [
    "import sys\n",
    "import os\n",
    "base_dir = os.path.abspath(\".\")\n",
    "sys.path.append(base_dir)\n",
    "\n",
    "import torch\n",
    "from torch.utils.data import Dataset, DataLoader\n",
    "import torchvision.transforms as transforms\n",
    "import numpy as np\n",
    "import matplotlib.pyplot as plt\n",
    "from PIL import Image as PILImage\n",
    "import cv2\n",
    "\n",
    "\n",
    "from utils import *\n",
    "from models.CtRNet import CtRNet\n",
    "from models.heatmap import compute_gaussian_heatmap, heatmap_to_keypoints\n",
    "\n"
   ]
  },
  {
   "attachments": {},
   "cell_type": "markdown",
   "metadata": {},
   "source": [
    "# Panda"
   ]
  },
  {
   "cell_type": "code",
   "execution_count": 3,
   "metadata": {},
   "outputs": [],
   "source": [
    "import argparse\n",
    "parser = argparse.ArgumentParser()\n",
    "\n",
    "args = parser.parse_args(\"\")\n",
    "\n",
    "args.base_dir = \"/home/jingpei/Desktop/CtRNet-robot-pose-estimation\"\n",
    "args.use_gpu = True\n",
    "args.trained_on_multi_gpus = True\n",
    "args.keypoint_seg_model_path = os.path.join(args.base_dir,\"weights/panda/panda-3cam_azure/net.pth\")\n",
    "args.urdf_file = os.path.join(args.base_dir,\"urdfs/Panda/panda.urdf\")\n",
    "\n",
    "args.robot_name = 'Panda' # \"Panda\" or \"Baxter_left_arm\"\n",
    "args.n_kp = 7\n",
    "args.height = 480\n",
    "args.width = 640\n",
    "args.fx, args.fy, args.px, args.py = 399.6578776041667, 399.4959309895833, 319.8955891927083, 244.0602823893229\n",
    "args.scale = 0.5 # scale the input image size to (320,240)\n",
    "\n",
    "# scale the camera parameters\n",
    "args.width = int(args.width * args.scale)\n",
    "args.height = int(args.height * args.scale)\n",
    "args.fx = args.fx * args.scale\n",
    "args.fy = args.fy * args.scale\n",
    "args.px = args.px * args.scale\n",
    "args.py = args.py * args.scale"
   ]
  },
  {
   "cell_type": "code",
   "execution_count": 4,
   "metadata": {},
   "outputs": [
    {
     "name": "stdout",
     "output_type": "stream",
     "text": [
      "Loading keypoint segmentation model from /home/jingpei/Desktop/CtRNet-robot-pose-estimation/weights/panda/panda-3cam_azure/net.pth\n",
      "Camera intrinsics: [[199.8289388    0.         159.9477946 ]\n",
      " [  0.         199.74796549 122.03014119]\n",
      " [  0.           0.           1.        ]]\n",
      "Robot model: Panda\n"
     ]
    }
   ],
   "source": [
    "trans_to_tensor = transforms.Compose([\n",
    "    transforms.ToTensor(),\n",
    "    transforms.Normalize(mean=[0.485, 0.456, 0.406], std=[0.229, 0.224, 0.225]),\n",
    "])\n",
    "\n",
    "def preprocess_img(cv_img,args):\n",
    "    image_pil = PILImage.fromarray(cv_img)\n",
    "    width, height = image_pil.size\n",
    "    new_size = (int(width*args.scale),int(height*args.scale))\n",
    "    image_pil = image_pil.resize(new_size)\n",
    "    image = trans_to_tensor(image_pil)\n",
    "    return image\n",
    "\n",
    "CtRNet = CtRNet(args)"
   ]
  },
  {
   "cell_type": "code",
   "execution_count": 5,
   "metadata": {},
   "outputs": [
    {
     "name": "stdout",
     "output_type": "stream",
     "text": [
      "tensor([[[ 0.8575,  0.5139, -0.0044, -0.1976],\n",
      "         [ 0.0952, -0.1674, -0.9811,  0.3963],\n",
      "         [-0.5050,  0.8412, -0.1925,  1.0495],\n",
      "         [ 0.0000,  0.0000,  0.0000,  1.0000]]], device='cuda:0',\n",
      "       grad_fn=<CopySlices>)\n"
     ]
    }
   ],
   "source": [
    "cv_img = cv2.imread(os.path.join(args.base_dir,\"images/panda.jpg\"))\n",
    "cv_img = cv2.cvtColor(cv_img, cv2.COLOR_BGR2RGB)\n",
    "image = preprocess_img(cv_img,args)\n",
    "if args.use_gpu:\n",
    "    image = image.cuda()\n",
    "\n",
    "joint_angles = np.array([ 0.0200, -0.9641, -0.0662, -2.7979, -0.0469,  1.9289,  0.9137])\n",
    "\n",
    "cTr, points_2d, segmentation = CtRNet.inference_single_image(image, joint_angles)\n",
    "print(CtRNet.cTr_to_pose_matrix(cTr))"
   ]
  },
  {
   "cell_type": "code",
   "execution_count": 6,
   "metadata": {},
   "outputs": [
    {
     "data": {
      "text/plain": [
       "tensor([[[121.7508, 197.2096],\n",
       "         [121.7311, 138.3067],\n",
       "         [ 87.9822,  96.0673],\n",
       "         [ 75.1244,  87.6170],\n",
       "         [159.0641,  84.9116],\n",
       "         [162.9904,  88.9614],\n",
       "         [159.6268, 117.1111]]], device='cuda:0', grad_fn=<MulBackward0>)"
      ]
     },
     "execution_count": 6,
     "metadata": {},
     "output_type": "execute_result"
    }
   ],
   "source": [
    "points_2d"
   ]
  },
  {
   "cell_type": "code",
   "execution_count": 21,
   "metadata": {},
   "outputs": [],
   "source": [
    "resnet_out = CtRNet.keypoint_seg_predictor.module.backbone(image[None])['out']\n",
    "heatmap = CtRNet.keypoint_seg_predictor.module.read_out(resnet_out) # (B, k, H//4, W//4)\n",
    "# upsample the heatmap to the original image size\n",
    "heatmap = torch.nn.functional.interpolate(heatmap, (args.height, args.width), mode='bilinear', align_corners=False)\n",
    "# get the keypoints\n",
    "keypoints = heatmap_to_keypoints(heatmap)\n",
    "\n",
    "#keypoints = CtRNet.keypoint_seg_predictor.module.spatialsoftargmax(heatmap)\n",
    "#offset = torch.tensor([-1,-1], device = resnet_out.device)\n",
    "#scale = torch.tensor([args.width // 2, args.height // 2], device = resnet_out.device)\n",
    "#keypoints = keypoints - offset\n",
    "#eypoints = keypoints * scale\n"
   ]
  },
  {
   "cell_type": "code",
   "execution_count": 22,
   "metadata": {},
   "outputs": [
    {
     "data": {
      "text/plain": [
       "torch.Size([1, 7, 240, 320])"
      ]
     },
     "execution_count": 22,
     "metadata": {},
     "output_type": "execute_result"
    }
   ],
   "source": [
    "heatmap.shape"
   ]
  },
  {
   "cell_type": "code",
   "execution_count": 23,
   "metadata": {},
   "outputs": [
    {
     "data": {
      "text/plain": [
       "tensor([[[-0.2195,  0.6146],\n",
       "         [-0.2358,  0.1492],\n",
       "         [-0.3984, -0.1795],\n",
       "         [-0.5068, -0.2637],\n",
       "         [ 0.0029, -0.2845],\n",
       "         [-0.0899, -0.1503],\n",
       "         [ 0.0137, -0.0098]]], device='cuda:0', grad_fn=<ViewBackward0>)"
      ]
     },
     "execution_count": 23,
     "metadata": {},
     "output_type": "execute_result"
    }
   ],
   "source": [
    "keypoints"
   ]
  },
  {
   "cell_type": "code",
   "execution_count": 24,
   "metadata": {},
   "outputs": [
    {
     "data": {
      "text/plain": [
       "tensor([[[122.0000, 197.0000],\n",
       "         [126.0000, 137.0000],\n",
       "         [ 85.0000, 102.0000],\n",
       "         [ 78.0000,  90.0000],\n",
       "         [158.0000,  85.0000],\n",
       "         [  0.5000,   0.5000],\n",
       "         [157.0000, 113.0000]]], device='cuda:0', grad_fn=<StackBackward0>)"
      ]
     },
     "execution_count": 24,
     "metadata": {},
     "output_type": "execute_result"
    }
   ],
   "source": [
    "heatmap_to_keypoints(heatmap)"
   ]
  },
  {
   "cell_type": "code",
   "execution_count": 13,
   "metadata": {},
   "outputs": [
    {
     "data": {
      "text/plain": [
       "torch.Size([1, 7, 60, 80])"
      ]
     },
     "execution_count": 13,
     "metadata": {},
     "output_type": "execute_result"
    }
   ],
   "source": [
    "heatmap.shape"
   ]
  },
  {
   "cell_type": "code",
   "execution_count": 20,
   "metadata": {},
   "outputs": [
    {
     "data": {
      "text/plain": [
       "<matplotlib.image.AxesImage at 0x7fa940647df0>"
      ]
     },
     "execution_count": 20,
     "metadata": {},
     "output_type": "execute_result"
    },
    {
     "data": {
      "image/png": "[encoded data removed]",
      "text/plain": [
       "<Figure size 432x288 with 1 Axes>"
      ]
     },
     "metadata": {},
     "output_type": "display_data"
    }
   ],
   "source": [
    "plt.imshow(heatmap.squeeze()[0].detach().cpu().numpy())"
   ]
  },
  {
   "cell_type": "code",
   "execution_count": null,
   "metadata": {},
   "outputs": [],
   "source": [
    "input_shape = img.shape[-2:]\n",
    "\n",
    "resnet_out = self.backbone(img)['out']  # (B, 2048, H//8, W//8)\n",
    "\n",
    "# keypoint prediction branch\n",
    "heatmap = self.read_out(resnet_out) # (B, k, H//4, W//4)\n",
    "keypoints = self.spatialsoftargmax(heatmap)\n",
    "# mapping back to original resolution from [-1,1]\n",
    "offset = torch.tensor([self.lim[0], self.lim[2]], device = resnet_out.device)\n",
    "scale = torch.tensor([self.args.width // 2, self.args.height // 2], device = resnet_out.device)\n",
    "keypoints = keypoints - offset\n",
    "keypoints = keypoints * scale"
   ]
  },
  {
   "cell_type": "code",
   "execution_count": null,
   "metadata": {},
   "outputs": [],
   "source": []
  },
  {
   "cell_type": "code",
   "execution_count": null,
   "metadata": {},
   "outputs": [],
   "source": []
  },
  {
   "cell_type": "code",
   "execution_count": 11,
   "metadata": {},
   "outputs": [],
   "source": [
    "\n"
   ]
  },
  {
   "cell_type": "code",
   "execution_count": 88,
   "metadata": {},
   "outputs": [],
   "source": [
    "keypoints = torch.tensor([[50,50],[100,100],[150,150],[200,200],[300,200]],dtype=torch.float32, requires_grad=True)[None]"
   ]
  },
  {
   "cell_type": "code",
   "execution_count": 89,
   "metadata": {},
   "outputs": [],
   "source": [
    "heatmap = compute_gaussian_heatmap(keypoints, torch.Size([240,320]),std=1.5)"
   ]
  },
  {
   "cell_type": "code",
   "execution_count": 90,
   "metadata": {},
   "outputs": [
    {
     "data": {
      "text/plain": [
       "torch.Size([1, 5, 240, 320])"
      ]
     },
     "execution_count": 90,
     "metadata": {},
     "output_type": "execute_result"
    }
   ],
   "source": [
    "heatmap.shape"
   ]
  },
  {
   "cell_type": "code",
   "execution_count": 91,
   "metadata": {},
   "outputs": [
    {
     "data": {
      "text/plain": [
       "<matplotlib.image.AxesImage at 0x7f74b744f1f0>"
      ]
     },
     "execution_count": 91,
     "metadata": {},
     "output_type": "execute_result"
    },
    {
     "data": {
      "image/png": "[encoded data removed]",
      "text/plain": [
       "<Figure size 432x288 with 1 Axes>"
      ]
     },
     "metadata": {},
     "output_type": "display_data"
    }
   ],
   "source": [
    "plt.imshow(heatmap.squeeze()[0].detach().cpu().numpy())"
   ]
  },
  {
   "cell_type": "code",
   "execution_count": 92,
   "metadata": {},
   "outputs": [
    {
     "data": {
      "text/plain": [
       "tensor([[[159.9734, 119.9831],\n",
       "         [159.9855, 119.9953],\n",
       "         [159.9977, 120.0074],\n",
       "         [160.0099, 120.0196],\n",
       "         [160.0342, 120.0196]]], grad_fn=<MulBackward0>)"
      ]
     },
     "execution_count": 92,
     "metadata": {},
     "output_type": "execute_result"
    }
   ],
   "source": [
    "keypoints = CtRNet.keypoint_seg_predictor.module.spatialsoftargmax(heatmap)\n",
    "keypoints = keypoints - offset.cpu()\n",
    "keypoints = keypoints * scale.cpu()\n",
    "keypoints"
   ]
  },
  {
   "cell_type": "code",
   "execution_count": 93,
   "metadata": {},
   "outputs": [
    {
     "data": {
      "text/plain": [
       "tensor([[[ 50.,  50.],\n",
       "         [100., 100.],\n",
       "         [150., 150.],\n",
       "         [200., 200.],\n",
       "         [300., 200.]]], grad_fn=<StackBackward0>)"
      ]
     },
     "execution_count": 93,
     "metadata": {},
     "output_type": "execute_result"
    }
   ],
   "source": [
    "heatmap_to_keypoints(heatmap)"
   ]
  },
  {
   "cell_type": "code",
   "execution_count": null,
   "metadata": {},
   "outputs": [],
   "source": []
  }
 ],
 "metadata": {
  "kernelspec": {
   "display_name": "pytorch_ros",
   "language": "python",
   "name": "python3"
  },
  "language_info": {
   "codemirror_mode": {
    "name": "ipython",
    "version": 3
   },
   "file_extension": ".py",
   "mimetype": "text/x-python",
   "name": "python",
   "nbconvert_exporter": "python",
   "pygments_lexer": "ipython3",
   "version": "3.8.12"
  },
  "orig_nbformat": 4
 },
 "nbformat": 4,
 "nbformat_minor": 2
}
